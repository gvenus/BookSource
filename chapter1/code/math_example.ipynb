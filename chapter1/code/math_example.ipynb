{
 "cells": [
  {
   "cell_type": "code",
   "execution_count": 1,
   "metadata": {},
   "outputs": [
    {
     "name": "stdout",
     "output_type": "stream",
     "text": [
      "[[1 2 3]\n",
      " [4 5 6]]\n"
     ]
    }
   ],
   "source": [
    "import numpy as np\n",
    "\n",
    "m = np.mat([[1,2,3],[4,5,6]])\n",
    "print m"
   ]
  },
  {
   "cell_type": "code",
   "execution_count": 2,
   "metadata": {},
   "outputs": [
    {
     "name": "stdout",
     "output_type": "stream",
     "text": [
      "[[ 0.  0.]\n",
      " [ 0.  0.]\n",
      " [ 0.  0.]]\n"
     ]
    }
   ],
   "source": [
    "from  numpy import *\n",
    "import numpy as np\n",
    "\n",
    "m = np.mat(zeros((3,2)))\n",
    "print m"
   ]
  },
  {
   "cell_type": "code",
   "execution_count": 3,
   "metadata": {},
   "outputs": [
    {
     "name": "stdout",
     "output_type": "stream",
     "text": [
      "转置前:\n",
      "[[1 2 3]\n",
      " [4 5 6]]\n",
      "转置前:\n",
      "[[1 4]\n",
      " [2 5]\n",
      " [3 6]]\n"
     ]
    }
   ],
   "source": [
    "# coding=utf-8\n",
    "import numpy as np\n",
    "\n",
    "m = np.mat([[1,2,3],[4,5,6]])\n",
    "print '转置前:\\n%s' % m\n",
    "t = m.T\n",
    "print '转置前:\\n%s' % t"
   ]
  },
  {
   "cell_type": "code",
   "execution_count": 4,
   "metadata": {},
   "outputs": [
    {
     "name": "stdout",
     "output_type": "stream",
     "text": [
      "m1 + m2 = \n",
      "[[12 14 16]\n",
      " [18 20 22]] \n"
     ]
    }
   ],
   "source": [
    "import numpy as np\n",
    "\n",
    "m1 = np.mat([[1, 2, 3], [4, 5, 6]])\n",
    "m2 = np.mat([[11, 12, 13], [14, 15, 16]])\n",
    "print \"m1 + m2 = \\n%s \" % (m1 + m2)"
   ]
  },
  {
   "cell_type": "code",
   "execution_count": 5,
   "metadata": {},
   "outputs": [
    {
     "name": "stdout",
     "output_type": "stream",
     "text": [
      "m1 * m2 = \n",
      "[[ 82  88]\n",
      " [199 214]] \n"
     ]
    }
   ],
   "source": [
    "import numpy as np\n",
    "\n",
    "m1 = np.mat([[1, 2, 3], [4, 5, 6]])\n",
    "m2 = np.mat([[11, 12], [13, 14], [15, 16]])\n",
    "print \"m1 * m2 = \\n%s \" % (m1 * m2)"
   ]
  },
  {
   "cell_type": "code",
   "execution_count": 6,
   "metadata": {},
   "outputs": [
    {
     "name": "stdout",
     "output_type": "stream",
     "text": [
      "[[1 0 0]\n",
      " [0 1 0]\n",
      " [0 0 1]]\n"
     ]
    }
   ],
   "source": [
    "from numpy import *\n",
    "import numpy as np\n",
    "\n",
    "m = np.mat(eye(3,3,dtype=int))\n",
    "print m"
   ]
  },
  {
   "cell_type": "code",
   "execution_count": 7,
   "metadata": {},
   "outputs": [
    {
     "name": "stdout",
     "output_type": "stream",
     "text": [
      "矩阵：\n",
      "[[2 0 0]\n",
      " [0 4 0]\n",
      " [0 0 8]]\n",
      "的逆矩阵为：\n",
      "[[ 0.5    0.     0.   ]\n",
      " [ 0.     0.25   0.   ]\n",
      " [ 0.     0.     0.125]]\n"
     ]
    }
   ],
   "source": [
    "# coding=utf-8\n",
    "import numpy as np\n",
    "\n",
    "m = np.mat([[2, 0, 0], [0, 4, 0], [0, 0, 8]])\n",
    "I = m.I\n",
    "print '矩阵：\\n%s\\n的逆矩阵为：\\n%s' % (m, I)"
   ]
  },
  {
   "cell_type": "code",
   "execution_count": 8,
   "metadata": {},
   "outputs": [
    {
     "name": "stdout",
     "output_type": "stream",
     "text": [
      "64.0\n"
     ]
    }
   ],
   "source": [
    "# coding=utf-8\n",
    "import numpy as np\n",
    "\n",
    "m = np.mat([[2, 0, 0], [0, 4, 0], [0, 0, 8]])\n",
    "d = np.linalg.det(m)\n",
    "print d"
   ]
  },
  {
   "cell_type": "code",
   "execution_count": 9,
   "metadata": {},
   "outputs": [
    {
     "name": "stdout",
     "output_type": "stream",
     "text": [
      "[[ 32.   0.   0.]\n",
      " [  0.  16.   0.]\n",
      " [  0.   0.   8.]]\n"
     ]
    }
   ],
   "source": [
    "import numpy as np\n",
    "\n",
    "m = np.mat([[2, 0, 0], [0, 4, 0], [0, 0, 8]])\n",
    "i = m.I\n",
    "d = np.linalg.det(m)\n",
    "a = i * d\n",
    "print a"
   ]
  },
  {
   "cell_type": "code",
   "execution_count": null,
   "metadata": {},
   "outputs": [],
   "source": [
    ""
   ]
  }
 ],
 "metadata": {
  "kernelspec": {
   "display_name": "Python 2",
   "language": "python",
   "name": "python2"
  },
  "language_info": {
   "codemirror_mode": {
    "name": "ipython",
    "version": 2.0
   },
   "file_extension": ".py",
   "mimetype": "text/x-python",
   "name": "python",
   "nbconvert_exporter": "python",
   "pygments_lexer": "ipython2",
   "version": "2.7.14"
  }
 },
 "nbformat": 4,
 "nbformat_minor": 0
}